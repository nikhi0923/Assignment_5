{
 "cells": [
  {
   "cell_type": "markdown",
   "id": "3579e70a",
   "metadata": {},
   "source": [
    "1.An empty dictionary in Python is created using curly braces {}\n",
    "empty_dict = {}\n",
    "empty_dict['key1'] = 'value1'\n",
    "empty_dict['key2'] = 'value2'\n"
   ]
  },
  {
   "cell_type": "code",
   "execution_count": 1,
   "id": "91e063a3",
   "metadata": {},
   "outputs": [
    {
     "name": "stdout",
     "output_type": "stream",
     "text": [
      "42\n"
     ]
    }
   ],
   "source": [
    "#2\n",
    "my_dict = {'foo': 42}\n",
    "value = my_dict['foo']\n",
    "print(value)  \n"
   ]
  },
  {
   "cell_type": "markdown",
   "id": "b9af2730",
   "metadata": {},
   "source": [
    "3.Dictionary: A dictionary is a collection of key-value pairs. Each key in a dictionary maps to a corresponding value. The keys are unique within a dictionary, and they are used to retrieve the associated values efficiently. Dictionaries provide fast lookup of values based on their keys, making them suitable for scenarios where data needs to be accessed by some identifier.\n",
    "\n",
    "List: A list is an ordered collection of elements. Elements in a list are indexed based on their position, starting from 0. Lists provide fast access to elements by their index, but the lookup time increases as the list grows larger. Lists are useful when you need to maintain an ordered sequence of items.\n",
    "\n",
    "Dictionaries use key-value pairs for data organization and allow fast retrieval based on keys.\n",
    "Lists use ordered indexing for data organization and allow fast access based on index."
   ]
  },
  {
   "cell_type": "code",
   "execution_count": null,
   "id": "a42b32d9",
   "metadata": {},
   "outputs": [],
   "source": [
    "#4\n",
    "spam = {'bar': 100}\n",
    "\n",
    "value = spam['foo']  # This line will raise a KeyError\n"
   ]
  },
  {
   "cell_type": "markdown",
   "id": "8c369787",
   "metadata": {},
   "source": [
    "5.'cat' in spam:\n",
    "This expression checks if the key 'cat' exists in the dictionary spam. It directly checks for the presence of the key in the dictionary and returns a Boolean value (True if the key exists, False otherwise).\n",
    "\n",
    "'cat' in spam.keys():\n",
    "This expression checks if the key 'cat' exists in the list of keys of the dictionary spam. It first retrieves all the keys in the dictionary using the keys() method, and then checks if 'cat' is present in that list. It also returns a Boolean value (True if the key exists, False otherwise)."
   ]
  },
  {
   "cell_type": "code",
   "execution_count": null,
   "id": "e172ab18",
   "metadata": {},
   "outputs": [],
   "source": [
    "#6\n",
    "spam = {'a': 'cat', 'b': 'dog'}\n",
    "print('cat' in spam)            # False (because 'cat' is not a key)\n",
    "print('cat' in spam.values())   # True (because 'cat' is a value)\n"
   ]
  },
  {
   "cell_type": "markdown",
   "id": "e08fc84a",
   "metadata": {},
   "source": [
    "7.A shortcut for the given code that avoids repetition is to use the setdefault() method. The setdefault() method checks if a key exists in the dictionary, and if it doesn't, it sets a default value for that key. If the key already exists, it doesn't modify the value.\n",
    "spam.setdefault('color', 'black')\n"
   ]
  },
  {
   "cell_type": "markdown",
   "id": "33e89cd9",
   "metadata": {},
   "source": [
    "8.To \"pretty print\" dictionary values in Python, you can use the json module along with the json.dumps() function with the indent parameter. The json.dumps() function converts a Python dictionary to a JSON-formatted string, and the indent parameter specifies the number of spaces to use for indentation, making the output more readable."
   ]
  },
  {
   "cell_type": "code",
   "execution_count": 2,
   "id": "f6194dc7",
   "metadata": {},
   "outputs": [
    {
     "name": "stdout",
     "output_type": "stream",
     "text": [
      "{\n",
      "    \"name\": \"John\",\n",
      "    \"age\": 30,\n",
      "    \"city\": \"New York\"\n",
      "}\n"
     ]
    }
   ],
   "source": [
    "import json\n",
    "\n",
    "my_dict = {'name': 'John', 'age': 30, 'city': 'New York'}\n",
    "pretty_printed = json.dumps(my_dict, indent=4)\n",
    "\n",
    "print(pretty_printed)\n"
   ]
  },
  {
   "cell_type": "code",
   "execution_count": null,
   "id": "e2348f0a",
   "metadata": {},
   "outputs": [],
   "source": []
  }
 ],
 "metadata": {
  "kernelspec": {
   "display_name": "Python 3 (ipykernel)",
   "language": "python",
   "name": "python3"
  },
  "language_info": {
   "codemirror_mode": {
    "name": "ipython",
    "version": 3
   },
   "file_extension": ".py",
   "mimetype": "text/x-python",
   "name": "python",
   "nbconvert_exporter": "python",
   "pygments_lexer": "ipython3",
   "version": "3.10.9"
  }
 },
 "nbformat": 4,
 "nbformat_minor": 5
}
